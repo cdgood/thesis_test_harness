{
 "cells": [
  {
   "cell_type": "markdown",
   "metadata": {},
   "source": [
    "# GRSS DFC 2018 Data Analysis Notebook"
   ]
  },
  {
   "cell_type": "code",
   "execution_count": 10,
   "metadata": {},
   "outputs": [],
   "source": [
    "### Futures ###\n",
    "#TODO\n",
    "\n",
    "### Built-in Imports ###\n",
    "import datetime\n",
    "import os\n",
    "import time\n",
    "\n",
    "### Other Library Imports ###\n",
    "from chart_studio import tools\n",
    "import chart_studio.plotly as py\n",
    "import matplotlib.pyplot as plt\n",
    "import numpy as np\n",
    "import pandas as pd\n",
    "# from plotly import tools\n",
    "from plotly.offline import init_notebook_mode, iplot\n",
    "import plotly.figure_factory as ff\n",
    "import plotly.graph_objects as go\n",
    "# import plotly.plotly as py\n",
    "import seaborn as sns\n",
    "\n",
    "### Local Imports ###\n",
    "from data.grss_dfc_2018_uh import UH_2018_Dataset"
   ]
  },
  {
   "cell_type": "code",
   "execution_count": 11,
   "metadata": {},
   "outputs": [
    {
     "data": {
      "text/html": [
       "        <script type=\"text/javascript\">\n",
       "        window.PlotlyConfig = {MathJaxConfig: 'local'};\n",
       "        if (window.MathJax) {MathJax.Hub.Config({SVG: {font: \"STIX-Web\"}});}\n",
       "        if (typeof require !== 'undefined') {\n",
       "        require.undef(\"plotly\");\n",
       "        requirejs.config({\n",
       "            paths: {\n",
       "                'plotly': ['https://cdn.plot.ly/plotly-2.11.1.min']\n",
       "            }\n",
       "        });\n",
       "        require(['plotly'], function(Plotly) {\n",
       "            window._Plotly = Plotly;\n",
       "        });\n",
       "        }\n",
       "        </script>\n",
       "        "
      ]
     },
     "metadata": {},
     "output_type": "display_data"
    }
   ],
   "source": [
    "### Environment ###\n",
    "init_notebook_mode(connected=True)\n",
    "pd.set_option('display.max_columns', 100)"
   ]
  },
  {
   "cell_type": "code",
   "execution_count": 12,
   "metadata": {},
   "outputs": [],
   "source": [
    "def load_data():\n",
    "    \"\"\"\n",
    "    \"\"\"\n",
    "    dataset = UH_2018_Dataset()\n",
    "    gt_train = dataset.load_full_gt_image(train_only=True)\n",
    "    gt_test = dataset.load_full_gt_image(test_only=True)\n",
    "    hs_data = dataset.load_full_hs_image(thres=False, \n",
    "                                         normalize=False, \n",
    "                                         resampling='average',   # Also need to try 'nearest'\n",
    "                                        )\n",
    "    lidar_ms_data = dataset.load_full_lidar_ms_image(thres=False,\n",
    "                                                     normalize=False,\n",
    "                                                     resampling=None,\n",
    "                                                    )\n",
    "    lidar_dsm_data = dataset.load_full_lidar_dsm_image(thres=False,\n",
    "                                                       normalize=False,\n",
    "                                                       resampling=None,\n",
    "                                                      )\n",
    "    lidar_dem_data = dataset.load_full_lidar_dem_image(thres=False,\n",
    "                                                       normalize=False,\n",
    "                                                       resampling=None,\n",
    "                                                      )\n",
    "    vhr_rgb_data = dataset.load_full_vhr_image(thres=False,\n",
    "                                               normalize=False,\n",
    "                                               resampling='cubic_spline',\n",
    "                                              )"
   ]
  },
  {
   "cell_type": "code",
   "execution_count": 13,
   "metadata": {},
   "outputs": [],
   "source": [
    "def load_hs_data():\n",
    "    \"\"\"\n",
    "    \"\"\"\n",
    "    dataset = UH_2018_Dataset()\n",
    "    gt_train = dataset.load_full_gt_image(train_only=True)\n",
    "    hs_data = dataset.load_full_hs_image(thres=False, \n",
    "                                         normalize=False, \n",
    "                                         resampling='average',   # Also need to try 'nearest'\n",
    "                                        )\n",
    "\n",
    "    return hs_data, gt_train"
   ]
  },
  {
   "cell_type": "code",
   "execution_count": 14,
   "metadata": {},
   "outputs": [],
   "source": [
    "def get_sample_pixels(data, gt, ignored_labels, num_samples):\n",
    "    \"\"\"\n",
    "    \"\"\"\n",
    "    pass"
   ]
  },
  {
   "cell_type": "code",
   "execution_count": 15,
   "metadata": {},
   "outputs": [],
   "source": [
    "def get_class_dataframes(data, gt, ignored_labels, class_labels, channel_labels=['data']):\n",
    "    \"\"\"\n",
    "    \"\"\"\n",
    "    if data.ndim == 3:\n",
    "        height, width, channels = data.shape\n",
    "    elif data.ndim == 2:\n",
    "        height, width = data.shape\n",
    "        channels = 1\n",
    "    else:\n",
    "        raise Exception('Data does not have 2 or 3 dimensions!')\n",
    "    \n",
    "    class_info = {label: [] for label in class_labels if label not in ignored_labels}\n",
    "\n",
    "    for row in range(height):\n",
    "        for col in range(width):\n",
    "            label = class_labels[gt[row, col]]\n",
    "            if label in ignored_labels: continue\n",
    "\n",
    "            class_info[label].append(data[row, col])\n",
    "    \n",
    "    for label in class_info:\n",
    "        class_info[label] = pd.DataFrame(np.array(class_info[label]),\n",
    "                                         columns=channel_labels)\n",
    "    \n",
    "    return class_info"
   ]
  },
  {
   "cell_type": "code",
   "execution_count": 16,
   "metadata": {},
   "outputs": [],
   "source": [
    "def save_dataframe_descriptions(dataframes, output_path='./'):\n",
    "    \"\"\"\n",
    "    \"\"\"\n",
    "    file_name = f'{label}_description.csv'\n",
    "    file_path = os.path.join(output_path, file_name)\n",
    "    for label in dataframes:\n",
    "        dataframes[label].describe().to_csv(file_path)"
   ]
  },
  {
   "cell_type": "code",
   "execution_count": 17,
   "metadata": {},
   "outputs": [],
   "source": [
    "def get_box_plots(dataframes, output_path='./'):\n",
    "    \"\"\"\n",
    "    \"\"\"\n",
    "    \n",
    "    for label in dataframes:\n",
    "        # Make dataframe variable\n",
    "        df = dataframes[label]\n",
    "\n",
    "        # Generate file path for saving image\n",
    "        file_name = f'{label}__box_plots.png'\n",
    "        file_path = os.path.join(output_path, file_name)\n",
    "\n",
    "        # Get random color profile for box plot\n",
    "        red, green, blue = list(np.random.choice(256, size=3))\n",
    "\n",
    "        data = [\n",
    "            go.Box(\n",
    "                y=df[column],\n",
    "                name=column,\n",
    "                marker=dict(\n",
    "                    color = f'rgb({red},{green},{blue})',\n",
    "                ),\n",
    "            )\n",
    "            for column in df.columns\n",
    "        ]\n",
    "\n",
    "        layout = go.Layout(\n",
    "            title = f'Plots of channel intensity distribution for \"{label}\"'\n",
    "        )\n",
    "\n",
    "        # Create figure and save image\n",
    "        fig = go.Figure(data=data, layout=layout)\n",
    "        # fig.write_image(file_path)\n",
    "\n",
    "        # Show figure\n",
    "        py.iplot(fig)"
   ]
  },
  {
   "cell_type": "code",
   "execution_count": 18,
   "metadata": {},
   "outputs": [
    {
     "name": "stdout",
     "output_type": "stream",
     "text": [
      "Loading training ground truth image...\n",
      "Loading training ground truth tiles...\n",
      "Merging image tiles...\n",
      "Loading full hyperspectral image...\n"
     ]
    },
    {
     "name": "stderr",
     "output_type": "stream",
     "text": [
      "C:\\Users\\cdgoo\\anaconda3\\envs\\thesis\\lib\\site-packages\\chart_studio\\plotly\\plotly.py:222: UserWarning:\n",
      "\n",
      "Woah there! Look at all those points! Due to browser limitations, the Plotly SVG drawing functions have a hard time graphing more than 500k data points for line charts, or 40k points for other types of charts. Here are some suggestions:\n",
      "(1) Use the `plotly.graph_objs.Scattergl` trace object to generate a WebGl graph.\n",
      "(2) Trying using the image API to return an image instead of a graph URL\n",
      "(3) Use matplotlib\n",
      "(4) See if you can create your visualization with fewer data points\n",
      "\n",
      "If the visualization you're using aggregates points (e.g., box plot, histogram, etc.) you can disregard this warning.\n",
      "\n"
     ]
    },
    {
     "ename": "KeyboardInterrupt",
     "evalue": "",
     "output_type": "error",
     "traceback": [
      "\u001b[1;31m---------------------------------------------------------------------------\u001b[0m",
      "\u001b[1;31mKeyboardInterrupt\u001b[0m                         Traceback (most recent call last)",
      "\u001b[1;32mc:\\Users\\cdgoo\\Documents\\Grad School\\masters_thesis\\code\\thesis_test_harness\\data_analysis.ipynb Cell 10'\u001b[0m in \u001b[0;36m<cell line: 12>\u001b[1;34m()\u001b[0m\n\u001b[0;32m      <a href='vscode-notebook-cell:/c%3A/Users/cdgoo/Documents/Grad%20School/masters_thesis/code/thesis_test_harness/data_analysis.ipynb#ch0000009?line=6'>7</a>\u001b[0m dataframes \u001b[39m=\u001b[39m get_class_dataframes(data, gt, \n\u001b[0;32m      <a href='vscode-notebook-cell:/c%3A/Users/cdgoo/Documents/Grad%20School/masters_thesis/code/thesis_test_harness/data_analysis.ipynb#ch0000009?line=7'>8</a>\u001b[0m                                     ignored_labels, \n\u001b[0;32m      <a href='vscode-notebook-cell:/c%3A/Users/cdgoo/Documents/Grad%20School/masters_thesis/code/thesis_test_harness/data_analysis.ipynb#ch0000009?line=8'>9</a>\u001b[0m                                     class_labels, \n\u001b[0;32m     <a href='vscode-notebook-cell:/c%3A/Users/cdgoo/Documents/Grad%20School/masters_thesis/code/thesis_test_harness/data_analysis.ipynb#ch0000009?line=9'>10</a>\u001b[0m                                     channel_labels\u001b[39m=\u001b[39mchannel_labels)\n\u001b[0;32m     <a href='vscode-notebook-cell:/c%3A/Users/cdgoo/Documents/Grad%20School/masters_thesis/code/thesis_test_harness/data_analysis.ipynb#ch0000009?line=10'>11</a>\u001b[0m \u001b[39m# save_dataframe_descriptions(dataframes, output_path='./analysis/grss_dfc_2018/descriptions/')\u001b[39;00m\n\u001b[1;32m---> <a href='vscode-notebook-cell:/c%3A/Users/cdgoo/Documents/Grad%20School/masters_thesis/code/thesis_test_harness/data_analysis.ipynb#ch0000009?line=11'>12</a>\u001b[0m get_box_plots(dataframes, output_path\u001b[39m=\u001b[39;49m\u001b[39m'\u001b[39;49m\u001b[39m./analysis/grss_dfc_2018/box_plots/\u001b[39;49m\u001b[39m'\u001b[39;49m)\n",
      "\u001b[1;32mc:\\Users\\cdgoo\\Documents\\Grad School\\masters_thesis\\code\\thesis_test_harness\\data_analysis.ipynb Cell 9'\u001b[0m in \u001b[0;36mget_box_plots\u001b[1;34m(dataframes, output_path)\u001b[0m\n\u001b[0;32m     <a href='vscode-notebook-cell:/c%3A/Users/cdgoo/Documents/Grad%20School/masters_thesis/code/thesis_test_harness/data_analysis.ipynb#ch0000008?line=31'>32</a>\u001b[0m fig \u001b[39m=\u001b[39m go\u001b[39m.\u001b[39mFigure(data\u001b[39m=\u001b[39mdata, layout\u001b[39m=\u001b[39mlayout)\n\u001b[0;32m     <a href='vscode-notebook-cell:/c%3A/Users/cdgoo/Documents/Grad%20School/masters_thesis/code/thesis_test_harness/data_analysis.ipynb#ch0000008?line=32'>33</a>\u001b[0m \u001b[39m# fig.write_image(file_path)\u001b[39;00m\n\u001b[0;32m     <a href='vscode-notebook-cell:/c%3A/Users/cdgoo/Documents/Grad%20School/masters_thesis/code/thesis_test_harness/data_analysis.ipynb#ch0000008?line=33'>34</a>\u001b[0m \n\u001b[0;32m     <a href='vscode-notebook-cell:/c%3A/Users/cdgoo/Documents/Grad%20School/masters_thesis/code/thesis_test_harness/data_analysis.ipynb#ch0000008?line=34'>35</a>\u001b[0m \u001b[39m# Show figure\u001b[39;00m\n\u001b[1;32m---> <a href='vscode-notebook-cell:/c%3A/Users/cdgoo/Documents/Grad%20School/masters_thesis/code/thesis_test_harness/data_analysis.ipynb#ch0000008?line=35'>36</a>\u001b[0m py\u001b[39m.\u001b[39;49miplot(fig)\n",
      "File \u001b[1;32m~\\anaconda3\\envs\\thesis\\lib\\site-packages\\chart_studio\\plotly\\plotly.py:135\u001b[0m, in \u001b[0;36miplot\u001b[1;34m(figure_or_data, **plot_options)\u001b[0m\n\u001b[0;32m    <a href='file:///c%3A/Users/cdgoo/anaconda3/envs/thesis/lib/site-packages/chart_studio/plotly/plotly.py?line=132'>133</a>\u001b[0m \u001b[39mif\u001b[39;00m \u001b[39m\"\u001b[39m\u001b[39mauto_open\u001b[39m\u001b[39m\"\u001b[39m \u001b[39mnot\u001b[39;00m \u001b[39min\u001b[39;00m plot_options:\n\u001b[0;32m    <a href='file:///c%3A/Users/cdgoo/anaconda3/envs/thesis/lib/site-packages/chart_studio/plotly/plotly.py?line=133'>134</a>\u001b[0m     plot_options[\u001b[39m\"\u001b[39m\u001b[39mauto_open\u001b[39m\u001b[39m\"\u001b[39m] \u001b[39m=\u001b[39m \u001b[39mFalse\u001b[39;00m\n\u001b[1;32m--> <a href='file:///c%3A/Users/cdgoo/anaconda3/envs/thesis/lib/site-packages/chart_studio/plotly/plotly.py?line=134'>135</a>\u001b[0m url \u001b[39m=\u001b[39m plot(figure_or_data, \u001b[39m*\u001b[39m\u001b[39m*\u001b[39mplot_options)\n\u001b[0;32m    <a href='file:///c%3A/Users/cdgoo/anaconda3/envs/thesis/lib/site-packages/chart_studio/plotly/plotly.py?line=136'>137</a>\u001b[0m \u001b[39mif\u001b[39;00m \u001b[39misinstance\u001b[39m(figure_or_data, \u001b[39mdict\u001b[39m):\n\u001b[0;32m    <a href='file:///c%3A/Users/cdgoo/anaconda3/envs/thesis/lib/site-packages/chart_studio/plotly/plotly.py?line=137'>138</a>\u001b[0m     layout \u001b[39m=\u001b[39m figure_or_data\u001b[39m.\u001b[39mget(\u001b[39m\"\u001b[39m\u001b[39mlayout\u001b[39m\u001b[39m\"\u001b[39m, {})\n",
      "File \u001b[1;32m~\\anaconda3\\envs\\thesis\\lib\\site-packages\\chart_studio\\plotly\\plotly.py:276\u001b[0m, in \u001b[0;36mplot\u001b[1;34m(figure_or_data, validate, **plot_options)\u001b[0m\n\u001b[0;32m    <a href='file:///c%3A/Users/cdgoo/anaconda3/envs/thesis/lib/site-packages/chart_studio/plotly/plotly.py?line=272'>273</a>\u001b[0m \u001b[39melse\u001b[39;00m:\n\u001b[0;32m    <a href='file:///c%3A/Users/cdgoo/anaconda3/envs/thesis/lib/site-packages/chart_studio/plotly/plotly.py?line=273'>274</a>\u001b[0m     grid_filename \u001b[39m=\u001b[39m filename \u001b[39m+\u001b[39m \u001b[39m\"\u001b[39m\u001b[39m_grid\u001b[39m\u001b[39m\"\u001b[39m\n\u001b[1;32m--> <a href='file:///c%3A/Users/cdgoo/anaconda3/envs/thesis/lib/site-packages/chart_studio/plotly/plotly.py?line=275'>276</a>\u001b[0m grid_ops\u001b[39m.\u001b[39;49mupload(\n\u001b[0;32m    <a href='file:///c%3A/Users/cdgoo/anaconda3/envs/thesis/lib/site-packages/chart_studio/plotly/plotly.py?line=276'>277</a>\u001b[0m     grid\u001b[39m=\u001b[39;49mgrid,\n\u001b[0;32m    <a href='file:///c%3A/Users/cdgoo/anaconda3/envs/thesis/lib/site-packages/chart_studio/plotly/plotly.py?line=277'>278</a>\u001b[0m     filename\u001b[39m=\u001b[39;49mgrid_filename,\n\u001b[0;32m    <a href='file:///c%3A/Users/cdgoo/anaconda3/envs/thesis/lib/site-packages/chart_studio/plotly/plotly.py?line=278'>279</a>\u001b[0m     world_readable\u001b[39m=\u001b[39;49mpayload[\u001b[39m\"\u001b[39;49m\u001b[39mworld_readable\u001b[39;49m\u001b[39m\"\u001b[39;49m],\n\u001b[0;32m    <a href='file:///c%3A/Users/cdgoo/anaconda3/envs/thesis/lib/site-packages/chart_studio/plotly/plotly.py?line=279'>280</a>\u001b[0m     auto_open\u001b[39m=\u001b[39;49m\u001b[39mFalse\u001b[39;49;00m,\n\u001b[0;32m    <a href='file:///c%3A/Users/cdgoo/anaconda3/envs/thesis/lib/site-packages/chart_studio/plotly/plotly.py?line=280'>281</a>\u001b[0m )\n\u001b[0;32m    <a href='file:///c%3A/Users/cdgoo/anaconda3/envs/thesis/lib/site-packages/chart_studio/plotly/plotly.py?line=282'>283</a>\u001b[0m _set_grid_column_references(figure, grid)\n\u001b[0;32m    <a href='file:///c%3A/Users/cdgoo/anaconda3/envs/thesis/lib/site-packages/chart_studio/plotly/plotly.py?line=283'>284</a>\u001b[0m payload[\u001b[39m\"\u001b[39m\u001b[39mfigure\u001b[39m\u001b[39m\"\u001b[39m] \u001b[39m=\u001b[39m figure\n",
      "File \u001b[1;32m~\\anaconda3\\envs\\thesis\\lib\\site-packages\\chart_studio\\plotly\\plotly.py:1087\u001b[0m, in \u001b[0;36mgrid_ops.upload\u001b[1;34m(cls, grid, filename, world_readable, auto_open, meta)\u001b[0m\n\u001b[0;32m   <a href='file:///c%3A/Users/cdgoo/anaconda3/envs/thesis/lib/site-packages/chart_studio/plotly/plotly.py?line=1083'>1084</a>\u001b[0m     \u001b[39mif\u001b[39;00m parent_path:\n\u001b[0;32m   <a href='file:///c%3A/Users/cdgoo/anaconda3/envs/thesis/lib/site-packages/chart_studio/plotly/plotly.py?line=1084'>1085</a>\u001b[0m         payload[\u001b[39m\"\u001b[39m\u001b[39mparent_path\u001b[39m\u001b[39m\"\u001b[39m] \u001b[39m=\u001b[39m parent_path\n\u001b[1;32m-> <a href='file:///c%3A/Users/cdgoo/anaconda3/envs/thesis/lib/site-packages/chart_studio/plotly/plotly.py?line=1086'>1087</a>\u001b[0m file_info \u001b[39m=\u001b[39m _create_or_overwrite_grid(payload)\n\u001b[0;32m   <a href='file:///c%3A/Users/cdgoo/anaconda3/envs/thesis/lib/site-packages/chart_studio/plotly/plotly.py?line=1088'>1089</a>\u001b[0m cols \u001b[39m=\u001b[39m file_info[\u001b[39m\"\u001b[39m\u001b[39mcols\u001b[39m\u001b[39m\"\u001b[39m]\n\u001b[0;32m   <a href='file:///c%3A/Users/cdgoo/anaconda3/envs/thesis/lib/site-packages/chart_studio/plotly/plotly.py?line=1089'>1090</a>\u001b[0m fid \u001b[39m=\u001b[39m file_info[\u001b[39m\"\u001b[39m\u001b[39mfid\u001b[39m\u001b[39m\"\u001b[39m]\n",
      "File \u001b[1;32m~\\anaconda3\\envs\\thesis\\lib\\site-packages\\chart_studio\\plotly\\plotly.py:1550\u001b[0m, in \u001b[0;36m_create_or_overwrite_grid\u001b[1;34m(data, max_retries)\u001b[0m\n\u001b[0;32m   <a href='file:///c%3A/Users/cdgoo/anaconda3/envs/thesis/lib/site-packages/chart_studio/plotly/plotly.py?line=1547'>1548</a>\u001b[0m \u001b[39m# Create file\u001b[39;00m\n\u001b[0;32m   <a href='file:///c%3A/Users/cdgoo/anaconda3/envs/thesis/lib/site-packages/chart_studio/plotly/plotly.py?line=1548'>1549</a>\u001b[0m \u001b[39mtry\u001b[39;00m:\n\u001b[1;32m-> <a href='file:///c%3A/Users/cdgoo/anaconda3/envs/thesis/lib/site-packages/chart_studio/plotly/plotly.py?line=1549'>1550</a>\u001b[0m     res \u001b[39m=\u001b[39m api_module\u001b[39m.\u001b[39;49mcreate(data)\n\u001b[0;32m   <a href='file:///c%3A/Users/cdgoo/anaconda3/envs/thesis/lib/site-packages/chart_studio/plotly/plotly.py?line=1550'>1551</a>\u001b[0m \u001b[39mexcept\u001b[39;00m exceptions\u001b[39m.\u001b[39mPlotlyRequestError \u001b[39mas\u001b[39;00m e:\n\u001b[0;32m   <a href='file:///c%3A/Users/cdgoo/anaconda3/envs/thesis/lib/site-packages/chart_studio/plotly/plotly.py?line=1551'>1552</a>\u001b[0m     \u001b[39mif\u001b[39;00m max_retries \u001b[39m>\u001b[39m \u001b[39m0\u001b[39m \u001b[39mand\u001b[39;00m \u001b[39m\"\u001b[39m\u001b[39malready exists\u001b[39m\u001b[39m\"\u001b[39m \u001b[39min\u001b[39;00m e\u001b[39m.\u001b[39mmessage:\n\u001b[0;32m   <a href='file:///c%3A/Users/cdgoo/anaconda3/envs/thesis/lib/site-packages/chart_studio/plotly/plotly.py?line=1552'>1553</a>\u001b[0m         \u001b[39m# Retry _create_or_overwrite\u001b[39;00m\n",
      "File \u001b[1;32m~\\anaconda3\\envs\\thesis\\lib\\site-packages\\chart_studio\\api\\v2\\grids.py:18\u001b[0m, in \u001b[0;36mcreate\u001b[1;34m(body)\u001b[0m\n\u001b[0;32m     <a href='file:///c%3A/Users/cdgoo/anaconda3/envs/thesis/lib/site-packages/chart_studio/api/v2/grids.py?line=9'>10</a>\u001b[0m \u001b[39m\"\"\"\u001b[39;00m\n\u001b[0;32m     <a href='file:///c%3A/Users/cdgoo/anaconda3/envs/thesis/lib/site-packages/chart_studio/api/v2/grids.py?line=10'>11</a>\u001b[0m \u001b[39mCreate a new grid.\u001b[39;00m\n\u001b[0;32m     <a href='file:///c%3A/Users/cdgoo/anaconda3/envs/thesis/lib/site-packages/chart_studio/api/v2/grids.py?line=11'>12</a>\u001b[0m \n\u001b[1;32m   (...)\u001b[0m\n\u001b[0;32m     <a href='file:///c%3A/Users/cdgoo/anaconda3/envs/thesis/lib/site-packages/chart_studio/api/v2/grids.py?line=14'>15</a>\u001b[0m \n\u001b[0;32m     <a href='file:///c%3A/Users/cdgoo/anaconda3/envs/thesis/lib/site-packages/chart_studio/api/v2/grids.py?line=15'>16</a>\u001b[0m \u001b[39m\"\"\"\u001b[39;00m\n\u001b[0;32m     <a href='file:///c%3A/Users/cdgoo/anaconda3/envs/thesis/lib/site-packages/chart_studio/api/v2/grids.py?line=16'>17</a>\u001b[0m url \u001b[39m=\u001b[39m build_url(RESOURCE)\n\u001b[1;32m---> <a href='file:///c%3A/Users/cdgoo/anaconda3/envs/thesis/lib/site-packages/chart_studio/api/v2/grids.py?line=17'>18</a>\u001b[0m \u001b[39mreturn\u001b[39;00m request(\u001b[39m\"\u001b[39;49m\u001b[39mpost\u001b[39;49m\u001b[39m\"\u001b[39;49m, url, json\u001b[39m=\u001b[39;49mbody)\n",
      "File \u001b[1;32m~\\anaconda3\\envs\\thesis\\lib\\site-packages\\retrying.py:49\u001b[0m, in \u001b[0;36mretry.<locals>.wrap.<locals>.wrapped_f\u001b[1;34m(*args, **kw)\u001b[0m\n\u001b[0;32m     <a href='file:///c%3A/Users/cdgoo/anaconda3/envs/thesis/lib/site-packages/retrying.py?line=46'>47</a>\u001b[0m \u001b[39m@six\u001b[39m\u001b[39m.\u001b[39mwraps(f)\n\u001b[0;32m     <a href='file:///c%3A/Users/cdgoo/anaconda3/envs/thesis/lib/site-packages/retrying.py?line=47'>48</a>\u001b[0m \u001b[39mdef\u001b[39;00m \u001b[39mwrapped_f\u001b[39m(\u001b[39m*\u001b[39margs, \u001b[39m*\u001b[39m\u001b[39m*\u001b[39mkw):\n\u001b[1;32m---> <a href='file:///c%3A/Users/cdgoo/anaconda3/envs/thesis/lib/site-packages/retrying.py?line=48'>49</a>\u001b[0m     \u001b[39mreturn\u001b[39;00m Retrying(\u001b[39m*\u001b[39mdargs, \u001b[39m*\u001b[39m\u001b[39m*\u001b[39mdkw)\u001b[39m.\u001b[39mcall(f, \u001b[39m*\u001b[39margs, \u001b[39m*\u001b[39m\u001b[39m*\u001b[39mkw)\n",
      "File \u001b[1;32m~\\anaconda3\\envs\\thesis\\lib\\site-packages\\retrying.py:206\u001b[0m, in \u001b[0;36mRetrying.call\u001b[1;34m(self, fn, *args, **kwargs)\u001b[0m\n\u001b[0;32m    <a href='file:///c%3A/Users/cdgoo/anaconda3/envs/thesis/lib/site-packages/retrying.py?line=202'>203</a>\u001b[0m     attempt \u001b[39m=\u001b[39m Attempt(tb, attempt_number, \u001b[39mTrue\u001b[39;00m)\n\u001b[0;32m    <a href='file:///c%3A/Users/cdgoo/anaconda3/envs/thesis/lib/site-packages/retrying.py?line=204'>205</a>\u001b[0m \u001b[39mif\u001b[39;00m \u001b[39mnot\u001b[39;00m \u001b[39mself\u001b[39m\u001b[39m.\u001b[39mshould_reject(attempt):\n\u001b[1;32m--> <a href='file:///c%3A/Users/cdgoo/anaconda3/envs/thesis/lib/site-packages/retrying.py?line=205'>206</a>\u001b[0m     \u001b[39mreturn\u001b[39;00m attempt\u001b[39m.\u001b[39;49mget(\u001b[39mself\u001b[39;49m\u001b[39m.\u001b[39;49m_wrap_exception)\n\u001b[0;32m    <a href='file:///c%3A/Users/cdgoo/anaconda3/envs/thesis/lib/site-packages/retrying.py?line=207'>208</a>\u001b[0m delay_since_first_attempt_ms \u001b[39m=\u001b[39m \u001b[39mint\u001b[39m(\u001b[39mround\u001b[39m(time\u001b[39m.\u001b[39mtime() \u001b[39m*\u001b[39m \u001b[39m1000\u001b[39m)) \u001b[39m-\u001b[39m start_time\n\u001b[0;32m    <a href='file:///c%3A/Users/cdgoo/anaconda3/envs/thesis/lib/site-packages/retrying.py?line=208'>209</a>\u001b[0m \u001b[39mif\u001b[39;00m \u001b[39mself\u001b[39m\u001b[39m.\u001b[39mstop(attempt_number, delay_since_first_attempt_ms):\n",
      "File \u001b[1;32m~\\anaconda3\\envs\\thesis\\lib\\site-packages\\retrying.py:247\u001b[0m, in \u001b[0;36mAttempt.get\u001b[1;34m(self, wrap_exception)\u001b[0m\n\u001b[0;32m    <a href='file:///c%3A/Users/cdgoo/anaconda3/envs/thesis/lib/site-packages/retrying.py?line=244'>245</a>\u001b[0m         \u001b[39mraise\u001b[39;00m RetryError(\u001b[39mself\u001b[39m)\n\u001b[0;32m    <a href='file:///c%3A/Users/cdgoo/anaconda3/envs/thesis/lib/site-packages/retrying.py?line=245'>246</a>\u001b[0m     \u001b[39melse\u001b[39;00m:\n\u001b[1;32m--> <a href='file:///c%3A/Users/cdgoo/anaconda3/envs/thesis/lib/site-packages/retrying.py?line=246'>247</a>\u001b[0m         six\u001b[39m.\u001b[39;49mreraise(\u001b[39mself\u001b[39;49m\u001b[39m.\u001b[39;49mvalue[\u001b[39m0\u001b[39;49m], \u001b[39mself\u001b[39;49m\u001b[39m.\u001b[39;49mvalue[\u001b[39m1\u001b[39;49m], \u001b[39mself\u001b[39;49m\u001b[39m.\u001b[39;49mvalue[\u001b[39m2\u001b[39;49m])\n\u001b[0;32m    <a href='file:///c%3A/Users/cdgoo/anaconda3/envs/thesis/lib/site-packages/retrying.py?line=247'>248</a>\u001b[0m \u001b[39melse\u001b[39;00m:\n\u001b[0;32m    <a href='file:///c%3A/Users/cdgoo/anaconda3/envs/thesis/lib/site-packages/retrying.py?line=248'>249</a>\u001b[0m     \u001b[39mreturn\u001b[39;00m \u001b[39mself\u001b[39m\u001b[39m.\u001b[39mvalue\n",
      "File \u001b[1;32m~\\anaconda3\\envs\\thesis\\lib\\site-packages\\six.py:719\u001b[0m, in \u001b[0;36mreraise\u001b[1;34m(tp, value, tb)\u001b[0m\n\u001b[0;32m    <a href='file:///c%3A/Users/cdgoo/anaconda3/envs/thesis/lib/site-packages/six.py?line=716'>717</a>\u001b[0m     \u001b[39mif\u001b[39;00m value\u001b[39m.\u001b[39m__traceback__ \u001b[39mis\u001b[39;00m \u001b[39mnot\u001b[39;00m tb:\n\u001b[0;32m    <a href='file:///c%3A/Users/cdgoo/anaconda3/envs/thesis/lib/site-packages/six.py?line=717'>718</a>\u001b[0m         \u001b[39mraise\u001b[39;00m value\u001b[39m.\u001b[39mwith_traceback(tb)\n\u001b[1;32m--> <a href='file:///c%3A/Users/cdgoo/anaconda3/envs/thesis/lib/site-packages/six.py?line=718'>719</a>\u001b[0m     \u001b[39mraise\u001b[39;00m value\n\u001b[0;32m    <a href='file:///c%3A/Users/cdgoo/anaconda3/envs/thesis/lib/site-packages/six.py?line=719'>720</a>\u001b[0m \u001b[39mfinally\u001b[39;00m:\n\u001b[0;32m    <a href='file:///c%3A/Users/cdgoo/anaconda3/envs/thesis/lib/site-packages/six.py?line=720'>721</a>\u001b[0m     value \u001b[39m=\u001b[39m \u001b[39mNone\u001b[39;00m\n",
      "File \u001b[1;32m~\\anaconda3\\envs\\thesis\\lib\\site-packages\\retrying.py:200\u001b[0m, in \u001b[0;36mRetrying.call\u001b[1;34m(self, fn, *args, **kwargs)\u001b[0m\n\u001b[0;32m    <a href='file:///c%3A/Users/cdgoo/anaconda3/envs/thesis/lib/site-packages/retrying.py?line=197'>198</a>\u001b[0m \u001b[39mwhile\u001b[39;00m \u001b[39mTrue\u001b[39;00m:\n\u001b[0;32m    <a href='file:///c%3A/Users/cdgoo/anaconda3/envs/thesis/lib/site-packages/retrying.py?line=198'>199</a>\u001b[0m     \u001b[39mtry\u001b[39;00m:\n\u001b[1;32m--> <a href='file:///c%3A/Users/cdgoo/anaconda3/envs/thesis/lib/site-packages/retrying.py?line=199'>200</a>\u001b[0m         attempt \u001b[39m=\u001b[39m Attempt(fn(\u001b[39m*\u001b[39margs, \u001b[39m*\u001b[39m\u001b[39m*\u001b[39mkwargs), attempt_number, \u001b[39mFalse\u001b[39;00m)\n\u001b[0;32m    <a href='file:///c%3A/Users/cdgoo/anaconda3/envs/thesis/lib/site-packages/retrying.py?line=200'>201</a>\u001b[0m     \u001b[39mexcept\u001b[39;00m:\n\u001b[0;32m    <a href='file:///c%3A/Users/cdgoo/anaconda3/envs/thesis/lib/site-packages/retrying.py?line=201'>202</a>\u001b[0m         tb \u001b[39m=\u001b[39m sys\u001b[39m.\u001b[39mexc_info()\n",
      "File \u001b[1;32m~\\anaconda3\\envs\\thesis\\lib\\site-packages\\chart_studio\\api\\v2\\utils.py:164\u001b[0m, in \u001b[0;36mrequest\u001b[1;34m(method, url, **kwargs)\u001b[0m\n\u001b[0;32m    <a href='file:///c%3A/Users/cdgoo/anaconda3/envs/thesis/lib/site-packages/chart_studio/api/v2/utils.py?line=159'>160</a>\u001b[0m     \u001b[39mif\u001b[39;00m kwargs\u001b[39m.\u001b[39mget(\u001b[39m\"\u001b[39m\u001b[39mdata\u001b[39m\u001b[39m\"\u001b[39m):\n\u001b[0;32m    <a href='file:///c%3A/Users/cdgoo/anaconda3/envs/thesis/lib/site-packages/chart_studio/api/v2/utils.py?line=160'>161</a>\u001b[0m         \u001b[39mraise\u001b[39;00m _plotly_utils\u001b[39m.\u001b[39mexceptions\u001b[39m.\u001b[39mPlotlyError(\n\u001b[0;32m    <a href='file:///c%3A/Users/cdgoo/anaconda3/envs/thesis/lib/site-packages/chart_studio/api/v2/utils.py?line=161'>162</a>\u001b[0m             \u001b[39m\"\u001b[39m\u001b[39mCannot supply data and json kwargs.\u001b[39m\u001b[39m\"\u001b[39m\n\u001b[0;32m    <a href='file:///c%3A/Users/cdgoo/anaconda3/envs/thesis/lib/site-packages/chart_studio/api/v2/utils.py?line=162'>163</a>\u001b[0m         )\n\u001b[1;32m--> <a href='file:///c%3A/Users/cdgoo/anaconda3/envs/thesis/lib/site-packages/chart_studio/api/v2/utils.py?line=163'>164</a>\u001b[0m     kwargs[\u001b[39m\"\u001b[39m\u001b[39mdata\u001b[39m\u001b[39m\"\u001b[39m] \u001b[39m=\u001b[39m _json\u001b[39m.\u001b[39;49mdumps(\n\u001b[0;32m    <a href='file:///c%3A/Users/cdgoo/anaconda3/envs/thesis/lib/site-packages/chart_studio/api/v2/utils.py?line=164'>165</a>\u001b[0m         kwargs\u001b[39m.\u001b[39;49mpop(\u001b[39m\"\u001b[39;49m\u001b[39mjson\u001b[39;49m\u001b[39m\"\u001b[39;49m), sort_keys\u001b[39m=\u001b[39;49m\u001b[39mTrue\u001b[39;49;00m, \u001b[39mcls\u001b[39;49m\u001b[39m=\u001b[39;49mPlotlyJSONEncoder\n\u001b[0;32m    <a href='file:///c%3A/Users/cdgoo/anaconda3/envs/thesis/lib/site-packages/chart_studio/api/v2/utils.py?line=165'>166</a>\u001b[0m     )\n\u001b[0;32m    <a href='file:///c%3A/Users/cdgoo/anaconda3/envs/thesis/lib/site-packages/chart_studio/api/v2/utils.py?line=167'>168</a>\u001b[0m \u001b[39m# The config file determines whether reuqests should *verify*.\u001b[39;00m\n\u001b[0;32m    <a href='file:///c%3A/Users/cdgoo/anaconda3/envs/thesis/lib/site-packages/chart_studio/api/v2/utils.py?line=168'>169</a>\u001b[0m kwargs[\u001b[39m\"\u001b[39m\u001b[39mverify\u001b[39m\u001b[39m\"\u001b[39m] \u001b[39m=\u001b[39m config\u001b[39m.\u001b[39mget_config()[\u001b[39m\"\u001b[39m\u001b[39mplotly_ssl_verification\u001b[39m\u001b[39m\"\u001b[39m]\n",
      "File \u001b[1;32m~\\anaconda3\\envs\\thesis\\lib\\json\\__init__.py:234\u001b[0m, in \u001b[0;36mdumps\u001b[1;34m(obj, skipkeys, ensure_ascii, check_circular, allow_nan, cls, indent, separators, default, sort_keys, **kw)\u001b[0m\n\u001b[0;32m    <a href='file:///c%3A/Users/cdgoo/anaconda3/envs/thesis/lib/json/__init__.py?line=231'>232</a>\u001b[0m \u001b[39mif\u001b[39;00m \u001b[39mcls\u001b[39m \u001b[39mis\u001b[39;00m \u001b[39mNone\u001b[39;00m:\n\u001b[0;32m    <a href='file:///c%3A/Users/cdgoo/anaconda3/envs/thesis/lib/json/__init__.py?line=232'>233</a>\u001b[0m     \u001b[39mcls\u001b[39m \u001b[39m=\u001b[39m JSONEncoder\n\u001b[1;32m--> <a href='file:///c%3A/Users/cdgoo/anaconda3/envs/thesis/lib/json/__init__.py?line=233'>234</a>\u001b[0m \u001b[39mreturn\u001b[39;00m \u001b[39mcls\u001b[39;49m(\n\u001b[0;32m    <a href='file:///c%3A/Users/cdgoo/anaconda3/envs/thesis/lib/json/__init__.py?line=234'>235</a>\u001b[0m     skipkeys\u001b[39m=\u001b[39;49mskipkeys, ensure_ascii\u001b[39m=\u001b[39;49mensure_ascii,\n\u001b[0;32m    <a href='file:///c%3A/Users/cdgoo/anaconda3/envs/thesis/lib/json/__init__.py?line=235'>236</a>\u001b[0m     check_circular\u001b[39m=\u001b[39;49mcheck_circular, allow_nan\u001b[39m=\u001b[39;49mallow_nan, indent\u001b[39m=\u001b[39;49mindent,\n\u001b[0;32m    <a href='file:///c%3A/Users/cdgoo/anaconda3/envs/thesis/lib/json/__init__.py?line=236'>237</a>\u001b[0m     separators\u001b[39m=\u001b[39;49mseparators, default\u001b[39m=\u001b[39;49mdefault, sort_keys\u001b[39m=\u001b[39;49msort_keys,\n\u001b[0;32m    <a href='file:///c%3A/Users/cdgoo/anaconda3/envs/thesis/lib/json/__init__.py?line=237'>238</a>\u001b[0m     \u001b[39m*\u001b[39;49m\u001b[39m*\u001b[39;49mkw)\u001b[39m.\u001b[39;49mencode(obj)\n",
      "File \u001b[1;32m~\\anaconda3\\envs\\thesis\\lib\\site-packages\\_plotly_utils\\utils.py:59\u001b[0m, in \u001b[0;36mPlotlyJSONEncoder.encode\u001b[1;34m(self, o)\u001b[0m\n\u001b[0;32m     <a href='file:///c%3A/Users/cdgoo/anaconda3/envs/thesis/lib/site-packages/_plotly_utils/utils.py?line=51'>52</a>\u001b[0m \u001b[39m\"\"\"\u001b[39;00m\n\u001b[0;32m     <a href='file:///c%3A/Users/cdgoo/anaconda3/envs/thesis/lib/site-packages/_plotly_utils/utils.py?line=52'>53</a>\u001b[0m \u001b[39mLoad and then dump the result using parse_constant kwarg\u001b[39;00m\n\u001b[0;32m     <a href='file:///c%3A/Users/cdgoo/anaconda3/envs/thesis/lib/site-packages/_plotly_utils/utils.py?line=53'>54</a>\u001b[0m \n\u001b[0;32m     <a href='file:///c%3A/Users/cdgoo/anaconda3/envs/thesis/lib/site-packages/_plotly_utils/utils.py?line=54'>55</a>\u001b[0m \u001b[39mNote that setting invalid separators will cause a failure at this step.\u001b[39;00m\n\u001b[0;32m     <a href='file:///c%3A/Users/cdgoo/anaconda3/envs/thesis/lib/site-packages/_plotly_utils/utils.py?line=55'>56</a>\u001b[0m \n\u001b[0;32m     <a href='file:///c%3A/Users/cdgoo/anaconda3/envs/thesis/lib/site-packages/_plotly_utils/utils.py?line=56'>57</a>\u001b[0m \u001b[39m\"\"\"\u001b[39;00m\n\u001b[0;32m     <a href='file:///c%3A/Users/cdgoo/anaconda3/envs/thesis/lib/site-packages/_plotly_utils/utils.py?line=57'>58</a>\u001b[0m \u001b[39m# this will raise errors in a normal-expected way\u001b[39;00m\n\u001b[1;32m---> <a href='file:///c%3A/Users/cdgoo/anaconda3/envs/thesis/lib/site-packages/_plotly_utils/utils.py?line=58'>59</a>\u001b[0m encoded_o \u001b[39m=\u001b[39m \u001b[39msuper\u001b[39;49m(PlotlyJSONEncoder, \u001b[39mself\u001b[39;49m)\u001b[39m.\u001b[39;49mencode(o)\n\u001b[0;32m     <a href='file:///c%3A/Users/cdgoo/anaconda3/envs/thesis/lib/site-packages/_plotly_utils/utils.py?line=59'>60</a>\u001b[0m \u001b[39m# Brute force guessing whether NaN or Infinity values are in the string\u001b[39;00m\n\u001b[0;32m     <a href='file:///c%3A/Users/cdgoo/anaconda3/envs/thesis/lib/site-packages/_plotly_utils/utils.py?line=60'>61</a>\u001b[0m \u001b[39m# We catch false positive cases (e.g. strings such as titles, labels etc.)\u001b[39;00m\n\u001b[0;32m     <a href='file:///c%3A/Users/cdgoo/anaconda3/envs/thesis/lib/site-packages/_plotly_utils/utils.py?line=61'>62</a>\u001b[0m \u001b[39m# but this is ok since the intention is to skip the decoding / reencoding\u001b[39;00m\n\u001b[0;32m     <a href='file:///c%3A/Users/cdgoo/anaconda3/envs/thesis/lib/site-packages/_plotly_utils/utils.py?line=62'>63</a>\u001b[0m \u001b[39m# step when it's completely safe\u001b[39;00m\n\u001b[0;32m     <a href='file:///c%3A/Users/cdgoo/anaconda3/envs/thesis/lib/site-packages/_plotly_utils/utils.py?line=64'>65</a>\u001b[0m \u001b[39mif\u001b[39;00m \u001b[39mnot\u001b[39;00m (\u001b[39m\"\u001b[39m\u001b[39mNaN\u001b[39m\u001b[39m\"\u001b[39m \u001b[39min\u001b[39;00m encoded_o \u001b[39mor\u001b[39;00m \u001b[39m\"\u001b[39m\u001b[39mInfinity\u001b[39m\u001b[39m\"\u001b[39m \u001b[39min\u001b[39;00m encoded_o):\n",
      "File \u001b[1;32m~\\anaconda3\\envs\\thesis\\lib\\json\\encoder.py:199\u001b[0m, in \u001b[0;36mJSONEncoder.encode\u001b[1;34m(self, o)\u001b[0m\n\u001b[0;32m    <a href='file:///c%3A/Users/cdgoo/anaconda3/envs/thesis/lib/json/encoder.py?line=194'>195</a>\u001b[0m         \u001b[39mreturn\u001b[39;00m encode_basestring(o)\n\u001b[0;32m    <a href='file:///c%3A/Users/cdgoo/anaconda3/envs/thesis/lib/json/encoder.py?line=195'>196</a>\u001b[0m \u001b[39m# This doesn't pass the iterator directly to ''.join() because the\u001b[39;00m\n\u001b[0;32m    <a href='file:///c%3A/Users/cdgoo/anaconda3/envs/thesis/lib/json/encoder.py?line=196'>197</a>\u001b[0m \u001b[39m# exceptions aren't as detailed.  The list call should be roughly\u001b[39;00m\n\u001b[0;32m    <a href='file:///c%3A/Users/cdgoo/anaconda3/envs/thesis/lib/json/encoder.py?line=197'>198</a>\u001b[0m \u001b[39m# equivalent to the PySequence_Fast that ''.join() would do.\u001b[39;00m\n\u001b[1;32m--> <a href='file:///c%3A/Users/cdgoo/anaconda3/envs/thesis/lib/json/encoder.py?line=198'>199</a>\u001b[0m chunks \u001b[39m=\u001b[39m \u001b[39mself\u001b[39;49m\u001b[39m.\u001b[39;49miterencode(o, _one_shot\u001b[39m=\u001b[39;49m\u001b[39mTrue\u001b[39;49;00m)\n\u001b[0;32m    <a href='file:///c%3A/Users/cdgoo/anaconda3/envs/thesis/lib/json/encoder.py?line=199'>200</a>\u001b[0m \u001b[39mif\u001b[39;00m \u001b[39mnot\u001b[39;00m \u001b[39misinstance\u001b[39m(chunks, (\u001b[39mlist\u001b[39m, \u001b[39mtuple\u001b[39m)):\n\u001b[0;32m    <a href='file:///c%3A/Users/cdgoo/anaconda3/envs/thesis/lib/json/encoder.py?line=200'>201</a>\u001b[0m     chunks \u001b[39m=\u001b[39m \u001b[39mlist\u001b[39m(chunks)\n",
      "File \u001b[1;32m~\\anaconda3\\envs\\thesis\\lib\\json\\encoder.py:257\u001b[0m, in \u001b[0;36mJSONEncoder.iterencode\u001b[1;34m(self, o, _one_shot)\u001b[0m\n\u001b[0;32m    <a href='file:///c%3A/Users/cdgoo/anaconda3/envs/thesis/lib/json/encoder.py?line=251'>252</a>\u001b[0m \u001b[39melse\u001b[39;00m:\n\u001b[0;32m    <a href='file:///c%3A/Users/cdgoo/anaconda3/envs/thesis/lib/json/encoder.py?line=252'>253</a>\u001b[0m     _iterencode \u001b[39m=\u001b[39m _make_iterencode(\n\u001b[0;32m    <a href='file:///c%3A/Users/cdgoo/anaconda3/envs/thesis/lib/json/encoder.py?line=253'>254</a>\u001b[0m         markers, \u001b[39mself\u001b[39m\u001b[39m.\u001b[39mdefault, _encoder, \u001b[39mself\u001b[39m\u001b[39m.\u001b[39mindent, floatstr,\n\u001b[0;32m    <a href='file:///c%3A/Users/cdgoo/anaconda3/envs/thesis/lib/json/encoder.py?line=254'>255</a>\u001b[0m         \u001b[39mself\u001b[39m\u001b[39m.\u001b[39mkey_separator, \u001b[39mself\u001b[39m\u001b[39m.\u001b[39mitem_separator, \u001b[39mself\u001b[39m\u001b[39m.\u001b[39msort_keys,\n\u001b[0;32m    <a href='file:///c%3A/Users/cdgoo/anaconda3/envs/thesis/lib/json/encoder.py?line=255'>256</a>\u001b[0m         \u001b[39mself\u001b[39m\u001b[39m.\u001b[39mskipkeys, _one_shot)\n\u001b[1;32m--> <a href='file:///c%3A/Users/cdgoo/anaconda3/envs/thesis/lib/json/encoder.py?line=256'>257</a>\u001b[0m \u001b[39mreturn\u001b[39;00m _iterencode(o, \u001b[39m0\u001b[39;49m)\n",
      "File \u001b[1;32m~\\anaconda3\\envs\\thesis\\lib\\site-packages\\_plotly_utils\\utils.py:121\u001b[0m, in \u001b[0;36mPlotlyJSONEncoder.default\u001b[1;34m(self, obj)\u001b[0m\n\u001b[0;32m     <a href='file:///c%3A/Users/cdgoo/anaconda3/envs/thesis/lib/site-packages/_plotly_utils/utils.py?line=88'>89</a>\u001b[0m \u001b[39m\"\"\"\u001b[39;00m\n\u001b[0;32m     <a href='file:///c%3A/Users/cdgoo/anaconda3/envs/thesis/lib/site-packages/_plotly_utils/utils.py?line=89'>90</a>\u001b[0m \u001b[39mAccept an object (of unknown type) and try to encode with priority:\u001b[39;00m\n\u001b[0;32m     <a href='file:///c%3A/Users/cdgoo/anaconda3/envs/thesis/lib/site-packages/_plotly_utils/utils.py?line=90'>91</a>\u001b[0m \u001b[39m1. builtin:     user-defined objects\u001b[39;00m\n\u001b[1;32m   (...)\u001b[0m\n\u001b[0;32m    <a href='file:///c%3A/Users/cdgoo/anaconda3/envs/thesis/lib/site-packages/_plotly_utils/utils.py?line=116'>117</a>\u001b[0m \n\u001b[0;32m    <a href='file:///c%3A/Users/cdgoo/anaconda3/envs/thesis/lib/site-packages/_plotly_utils/utils.py?line=117'>118</a>\u001b[0m \u001b[39m\"\"\"\u001b[39;00m\n\u001b[0;32m    <a href='file:///c%3A/Users/cdgoo/anaconda3/envs/thesis/lib/site-packages/_plotly_utils/utils.py?line=118'>119</a>\u001b[0m \u001b[39m# TODO: The ordering if these methods is *very* important. Is this OK?\u001b[39;00m\n\u001b[0;32m    <a href='file:///c%3A/Users/cdgoo/anaconda3/envs/thesis/lib/site-packages/_plotly_utils/utils.py?line=119'>120</a>\u001b[0m encoding_methods \u001b[39m=\u001b[39m (\n\u001b[1;32m--> <a href='file:///c%3A/Users/cdgoo/anaconda3/envs/thesis/lib/site-packages/_plotly_utils/utils.py?line=120'>121</a>\u001b[0m     \u001b[39mself\u001b[39;49m\u001b[39m.\u001b[39;49mencode_as_plotly,\n\u001b[0;32m    <a href='file:///c%3A/Users/cdgoo/anaconda3/envs/thesis/lib/site-packages/_plotly_utils/utils.py?line=121'>122</a>\u001b[0m     \u001b[39mself\u001b[39m\u001b[39m.\u001b[39mencode_as_sage,\n\u001b[0;32m    <a href='file:///c%3A/Users/cdgoo/anaconda3/envs/thesis/lib/site-packages/_plotly_utils/utils.py?line=122'>123</a>\u001b[0m     \u001b[39mself\u001b[39m\u001b[39m.\u001b[39mencode_as_numpy,\n\u001b[0;32m    <a href='file:///c%3A/Users/cdgoo/anaconda3/envs/thesis/lib/site-packages/_plotly_utils/utils.py?line=123'>124</a>\u001b[0m     \u001b[39mself\u001b[39m\u001b[39m.\u001b[39mencode_as_pandas,\n\u001b[0;32m    <a href='file:///c%3A/Users/cdgoo/anaconda3/envs/thesis/lib/site-packages/_plotly_utils/utils.py?line=124'>125</a>\u001b[0m     \u001b[39mself\u001b[39m\u001b[39m.\u001b[39mencode_as_datetime,\n\u001b[0;32m    <a href='file:///c%3A/Users/cdgoo/anaconda3/envs/thesis/lib/site-packages/_plotly_utils/utils.py?line=125'>126</a>\u001b[0m     \u001b[39mself\u001b[39m\u001b[39m.\u001b[39mencode_as_date,\n\u001b[0;32m    <a href='file:///c%3A/Users/cdgoo/anaconda3/envs/thesis/lib/site-packages/_plotly_utils/utils.py?line=126'>127</a>\u001b[0m     \u001b[39mself\u001b[39m\u001b[39m.\u001b[39mencode_as_list,  \u001b[39m# because some values have `tolist` do last.\u001b[39;00m\n\u001b[0;32m    <a href='file:///c%3A/Users/cdgoo/anaconda3/envs/thesis/lib/site-packages/_plotly_utils/utils.py?line=127'>128</a>\u001b[0m     \u001b[39mself\u001b[39m\u001b[39m.\u001b[39mencode_as_decimal,\n\u001b[0;32m    <a href='file:///c%3A/Users/cdgoo/anaconda3/envs/thesis/lib/site-packages/_plotly_utils/utils.py?line=128'>129</a>\u001b[0m     \u001b[39mself\u001b[39m\u001b[39m.\u001b[39mencode_as_pil,\n\u001b[0;32m    <a href='file:///c%3A/Users/cdgoo/anaconda3/envs/thesis/lib/site-packages/_plotly_utils/utils.py?line=129'>130</a>\u001b[0m )\n\u001b[0;32m    <a href='file:///c%3A/Users/cdgoo/anaconda3/envs/thesis/lib/site-packages/_plotly_utils/utils.py?line=130'>131</a>\u001b[0m \u001b[39mfor\u001b[39;00m encoding_method \u001b[39min\u001b[39;00m encoding_methods:\n\u001b[0;32m    <a href='file:///c%3A/Users/cdgoo/anaconda3/envs/thesis/lib/site-packages/_plotly_utils/utils.py?line=131'>132</a>\u001b[0m     \u001b[39mtry\u001b[39;00m:\n",
      "\u001b[1;31mKeyboardInterrupt\u001b[0m: "
     ]
    }
   ],
   "source": [
    "dataset = UH_2018_Dataset()\n",
    "ignored_labels = dataset.gt_ignored_labels\n",
    "class_labels = dataset.gt_class_label_list\n",
    "channel_labels = dataset.hs_band_wavelength_labels\n",
    "\n",
    "data, gt = load_hs_data()\n",
    "dataframes = get_class_dataframes(data, gt, \n",
    "                                    ignored_labels, \n",
    "                                    class_labels, \n",
    "                                    channel_labels=channel_labels)\n",
    "# save_dataframe_descriptions(dataframes, output_path='./analysis/grss_dfc_2018/descriptions/')\n",
    "get_box_plots(dataframes, output_path='./analysis/grss_dfc_2018/box_plots/')"
   ]
  }
 ],
 "metadata": {
  "interpreter": {
   "hash": "ca57ec35b4ef645a5b0e24edd6f4e2daf751b05c470ae8f5cb744051eb68dac4"
  },
  "kernelspec": {
   "display_name": "Python 3.9.7 ('thesis')",
   "language": "python",
   "name": "python3"
  },
  "language_info": {
   "codemirror_mode": {
    "name": "ipython",
    "version": 3
   },
   "file_extension": ".py",
   "mimetype": "text/x-python",
   "name": "python",
   "nbconvert_exporter": "python",
   "pygments_lexer": "ipython3",
   "version": "3.9.7"
  },
  "orig_nbformat": 4
 },
 "nbformat": 4,
 "nbformat_minor": 2
}
